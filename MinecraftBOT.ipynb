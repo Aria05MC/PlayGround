{
  "nbformat": 4,
  "nbformat_minor": 0,
  "metadata": {
    "colab": {
      "provenance": [],
      "authorship_tag": "ABX9TyOlwqYcRhGAmKRKpkNmBwM0",
      "include_colab_link": true
    },
    "kernelspec": {
      "name": "python3",
      "display_name": "Python 3"
    },
    "language_info": {
      "name": "python"
    }
  },
  "cells": [
    {
      "cell_type": "markdown",
      "metadata": {
        "id": "view-in-github",
        "colab_type": "text"
      },
      "source": [
        "<a href=\"https://colab.research.google.com/github/Aria05MC/PlayGround/blob/main/MinecraftBOT.ipynb\" target=\"_parent\"><img src=\"https://colab.research.google.com/assets/colab-badge.svg\" alt=\"Open In Colab\"/></a>"
      ]
    },
    {
      "cell_type": "code",
      "execution_count": 6,
      "metadata": {
        "id": "cVOFpPgFrA4c",
        "colab": {
          "base_uri": "https://localhost:8080/"
        },
        "outputId": "a759b16a-b98a-45bd-9196-96a198b11f5a"
      },
      "outputs": [
        {
          "output_type": "stream",
          "name": "stdout",
          "text": [
            "Collecting git+https://github.com/ammaraskar/pyCraft.git\n",
            "  Cloning https://github.com/ammaraskar/pyCraft.git to /tmp/pip-req-build-cgg56o4j\n",
            "  Running command git clone --filter=blob:none --quiet https://github.com/ammaraskar/pyCraft.git /tmp/pip-req-build-cgg56o4j\n",
            "  Resolved https://github.com/ammaraskar/pyCraft.git to commit bcd156e83bd35fb2fdc6cfa64f97bfc96d7cc1a1\n",
            "  Preparing metadata (setup.py) ... \u001b[?25l\u001b[?25hdone\n",
            "Requirement already satisfied: cryptography>=1.5 in /usr/local/lib/python3.11/dist-packages (from pyCraft==0.7.0) (43.0.3)\n",
            "Requirement already satisfied: requests in /usr/local/lib/python3.11/dist-packages (from pyCraft==0.7.0) (2.32.3)\n",
            "Collecting pynbt (from pyCraft==0.7.0)\n",
            "  Downloading PyNBT-3.1.0-py3-none-any.whl.metadata (4.6 kB)\n",
            "Requirement already satisfied: cffi>=1.12 in /usr/local/lib/python3.11/dist-packages (from cryptography>=1.5->pyCraft==0.7.0) (1.17.1)\n",
            "Collecting mutf8>=1.0.2 (from pynbt->pyCraft==0.7.0)\n",
            "  Downloading mutf8-1.0.6.tar.gz (6.4 kB)\n",
            "  Preparing metadata (setup.py) ... \u001b[?25l\u001b[?25hdone\n",
            "Requirement already satisfied: charset-normalizer<4,>=2 in /usr/local/lib/python3.11/dist-packages (from requests->pyCraft==0.7.0) (3.4.2)\n",
            "Requirement already satisfied: idna<4,>=2.5 in /usr/local/lib/python3.11/dist-packages (from requests->pyCraft==0.7.0) (3.10)\n",
            "Requirement already satisfied: urllib3<3,>=1.21.1 in /usr/local/lib/python3.11/dist-packages (from requests->pyCraft==0.7.0) (2.4.0)\n",
            "Requirement already satisfied: certifi>=2017.4.17 in /usr/local/lib/python3.11/dist-packages (from requests->pyCraft==0.7.0) (2025.6.15)\n",
            "Requirement already satisfied: pycparser in /usr/local/lib/python3.11/dist-packages (from cffi>=1.12->cryptography>=1.5->pyCraft==0.7.0) (2.22)\n",
            "Downloading PyNBT-3.1.0-py3-none-any.whl (7.3 kB)\n",
            "Building wheels for collected packages: pyCraft, mutf8\n",
            "  Building wheel for pyCraft (setup.py) ... \u001b[?25l\u001b[?25hdone\n",
            "  Created wheel for pyCraft: filename=pyCraft-0.7.0-py3-none-any.whl size=62453 sha256=15211a98952c4c8990852b8f075f5766f9de0ab3d86c7aaf1afef4585b265497\n",
            "  Stored in directory: /tmp/pip-ephem-wheel-cache-u0m3um4o/wheels/22/67/3b/e60ed5583d1bb1098626e874fb4eb8de03a66655dc90e129da\n",
            "  Building wheel for mutf8 (setup.py) ... \u001b[?25l\u001b[?25hdone\n",
            "  Created wheel for mutf8: filename=mutf8-1.0.6-cp311-cp311-linux_x86_64.whl size=18579 sha256=cd011a15d212b776313cfa1d39cb4ba5f06731bbd3916021a1d73793698361ff\n",
            "  Stored in directory: /root/.cache/pip/wheels/44/bc/d6/647be2901ee64bf5bbc7636ea53f146947a204f61d552771d3\n",
            "Successfully built pyCraft mutf8\n",
            "Installing collected packages: mutf8, pynbt, pyCraft\n",
            "  Attempting uninstall: pyCraft\n",
            "    Found existing installation: PyCraft 1503040\n",
            "    Uninstalling PyCraft-1503040:\n",
            "      Successfully uninstalled PyCraft-1503040\n",
            "Successfully installed mutf8-1.0.6 pyCraft-0.7.0 pynbt-3.1.0\n"
          ]
        }
      ],
      "source": [
        "!pip install git+https://github.com/ammaraskar/pyCraft.git"
      ]
    },
    {
      "cell_type": "code",
      "source": [
        "from minecraft.networking.connection import Connection\n",
        "from minecraft.networking.packets import ChatPacket\n",
        "\n",
        "# Ganti ini sama server target\n",
        "server_address = 'localhost'   # atau IP server Minecraft kamu\n",
        "server_port = 25565\n",
        "username = 'BotApple'          # Nama bot kamu\n",
        "\n",
        "# Buat koneksi ke server\n",
        "connection = Connection(server_address, server_port, username=username)\n",
        "\n",
        "# Callback kalau berhasil login\n",
        "def handle_join(game_join_packet):\n",
        "    print(\"Berhasil masuk server!\")\n",
        "    connection.write_packet(ChatPacket(message=\"Hai dari Lucy! ❤️\"))\n",
        "\n",
        "connection.register_packet_listener(handle_join,\n",
        "    packet_type=minecraft.networking.packets.clientbound.play.JoinGamePacket)\n",
        "\n",
        "# Jalankan koneksi\n",
        "connection.connect()"
      ],
      "metadata": {
        "id": "KrzxIkiMyyGo"
      },
      "execution_count": null,
      "outputs": []
    }
  ]
}